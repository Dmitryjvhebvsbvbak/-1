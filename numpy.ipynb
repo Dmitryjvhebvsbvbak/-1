{
 "cells": [
  {
   "cell_type": "markdown",
   "metadata": {
    "id": "vC84e9kzyxPy"
   },
   "source": [
    "<h1>Импорт библиотек"
   ]
  },
  {
   "cell_type": "code",
   "execution_count": 3,
   "metadata": {
    "id": "cgKeNegmQG5S"
   },
   "outputs": [],
   "source": [
    "import numpy as np\n",
    "import matplotlib.pyplot as plt"
   ]
  },
  {
   "cell_type": "markdown",
   "metadata": {
    "id": "qFM9uVU2x4Ls"
   },
   "source": [
    "<h1>Задача 1. Дан набор из $p$ матриц размерностью $(n, n)$ и $p$ векторов размерностью $(n, 1)$, найти сумму произведений матриц на векторы. Написать тесты для кода"
   ]
  },
  {
   "cell_type": "code",
   "execution_count": null,
   "metadata": {
    "id": "IAbUvEiYyWFF"
   },
   "outputs": [],
   "source": [
    "def sum_prod(X, V):\n",
    "    matrix = np.array(X)\n",
    "    vector = np.array(V)\n",
    "    result = matrix.dot(vector)\n",
    "\n",
    "    return f'Результат перемножения: {result[0]},{result[1]}'\n",
    "\n",
    "\n",
    "print(sum_prod([[4, 1], [2, 2]], [1, 2])) # Результат перемножения: 6,6\n",
    "print(sum_prod([[2, 5], [1, 6]], [1, 2])) # Результат перемножения: 12,13"
   ]
  },
  {
   "cell_type": "markdown",
   "metadata": {
    "id": "TKwPG4fIy2w4"
   },
   "source": [
    "<h1>Задача 2. Дана матрица M, напишите функцию, которая бинаризует матрицу по некоторому threshold (то есть, все значения большие threshold становятся равными 1, иначе 0). Напишите тесты для кода"
   ]
  },
  {
   "cell_type": "code",
   "execution_count": null,
   "metadata": {
    "id": "KQDNMgsjRNH7"
   },
   "outputs": [],
   "source": [
    "def binarize(M, threshold=0.5):\n",
    "    matrix = np.array(M)\n",
    "    binarize = np.where(matrix > threshold, 1, 0)\n",
    "    \n",
    "    return binarize\n",
    "\n",
    "\n",
    "print(binarize([[0.7, 1.4, 0.5], [0.2, 0.0, 0.3], [3.8, 0.8, 1.3]])) \n",
    "#[[1 1 0]\n",
    "#[0 0 0]\n",
    "#[1 1 1]]"
   ]
  },
  {
   "cell_type": "markdown",
   "metadata": {
    "id": "IY5L-h-7zWhN"
   },
   "source": [
    "<h1>Задача 3. Напишите функцию, которая возвращает уникальные элементы из каждой строки матрицы. Напишите такую же функцию, но для столбцов. Напишите тесты для кода"
   ]
  },
  {
   "cell_type": "code",
   "execution_count": null,
   "metadata": {
    "id": "-8dEZhR0SBC-"
   },
   "outputs": [],
   "source": [
    "\n",
    "def unique_rows(mat):\n",
    "    unique_elements = []\n",
    "    for row in mat:\n",
    "        unique_elements.append(np.unique(row))\n",
    "    return unique_elements\n",
    "def unique_columns(mat):\n",
    "    unique_elements = []\n",
    "    for col in mat.T:\n",
    "        unique_elements.append(np.unique(col))\n",
    "    return unique_elements\n",
    "print(unique_rows([[1, 1, 3], [5, 5, 6], [7, 8, 9]])) #[array([1, 3]), array([5, 6]), array([7, 8, 9])]\n",
    "print(unique_columns([[1, 4, 3], [1, 5, 3], [3, 8, 9]]))\n",
    "\n"
   ]
  },
  {
   "cell_type": "markdown",
   "metadata": {
    "id": "roYAlo4Jz-lH"
   },
   "source": [
    "<h1>Задача 4. Напишите функцию, которая заполняет матрицу с размерами $(m, n)$ случайными числами, распределенными по нормальному закону. Затем считает мат. ожидание и дисперсию для каждого из столбцов и строк, а также строит для каждой строки и столбца гистограмму значений (использовать функцию hist из модуля matplotlib.plot)"
   ]
  },
  {
   "cell_type": "code",
   "execution_count": null,
   "metadata": {
    "id": "nZK_71hMSQzv"
   },
   "outputs": [],
   "source": [
    "def analyze_matrix(m, n):\n",
    "    mat = np.random.normal(size=(m, n))\n",
    "    \n",
    "    # Математическое ожидание и дисперсия\n",
    "    mean_cols = np.mean(mat, axis=0)\n",
    "    var_cols = np.var(mat, axis=0)\n",
    "    \n",
    "    # Математическое ожидание и дисперсия\n",
    "    mean_rows = np.mean(mat, axis=1)\n",
    "    var_rows = np.var(mat, axis=1)\n",
    "    \n",
    "    # Гистограммы для каждой строки и столбца\n",
    "    for i in range(m):\n",
    "        plt.figure()\n",
    "        plt.hist(mat[i, :], bins=20)\n",
    "        plt.title(f'Row {i+1} Histogram')\n",
    "        plt.show()\n",
    "    \n",
    "    for j in range(n):\n",
    "        plt.figure()\n",
    "        plt.hist(mat[:, j], bins=20)\n",
    "        plt.title(f'Column {j+1} Histogram')\n",
    "        plt.show()\n",
    "    \n",
    "    return mean_cols, var_cols, mean_rows, var_rows\n",
    "\n",
    "mean_cols, var_cols, mean_rows, var_rows = analyze_matrix(3, 4)\n",
    "print(mean_cols) #[-0.32210668 -0.12306989  0.1434362   0.37129778]\n",
    "print(var_cols) #[0.68836471 0.43751733 0.79434555 0.07455903]\n",
    "print(mean_rows) #[ 0.39038247 -0.14836409 -0.18985032]\n",
    "print(var_rows) #[0.60985877 0.39328    0.49049885]\n",
    "\n"
   ]
data:image/png;charset=utf-8;base64,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
  },
  {
   "cell_type": "markdown",
   "metadata": {
    "id": "BDyATNdM0dJ2"
   },
   "source": [
    "<h1>Задача 5. Напишите функцию, которая заполняет матрицу $(m, n)$ в шахматном порядке заданными числами $a$ и $b$. Напишите тесты для кода"
   ]
  },
  {
   "cell_type": "code",
   "execution_count": null,
   "metadata": {
    "id": "RWNJYWQGecS6"
   },
   "outputs": [],
   "source": [
    "def chess(m, n, a, b):\n",
    "    mat = np.zeros((m, n))\n",
    "    for i in range(m):\n",
    "        for j in range(n):\n",
    "            if (i + j) % 2 == 0:\n",
    "                mat[i, j] = a\n",
    "            else:\n",
    "                mat[i, j] = b\n",
    "    return mat\n",
    "\n",
    "print(chess(3, 3, 1, 0)) \n",
    "#[[1. 0. 1.]\n",
    "#[0. 1. 0.]\n",
    "#[1. 0. 1.]]"
   ]
  },
  {
   "cell_type": "markdown",
   "metadata": {
    "id": "-ymXLtTN0vB6"
   },
   "source": [
    "<h1>Задача 6. Напишите функцию, которая отрисовывает прямоугольник с заданными размерами (a, b) на изображении размера (m, n), цвет фона задайте в схеме RGB, как и цвет прямоугольника. Цвета также должны быть параметрами функции. Напишите аналогичную функцию но для овала с полуосями a и b. Напишите тесты для кода.\n",
    "Примечание: уравнение эллипса (границы овала) можно записать как:\n",
    "<h1>$\\frac{(x-x_0)^2}{a^2}+\\frac{(y-y_0)^2}{b^2}=1$"
   ]
  },
  {
   "cell_type": "code",
   "execution_count": null,
   "metadata": {
    "id": "sNfl1t_kfOF4"
   },
   "outputs": [],
   "source": [
    "def draw_rectangle(a, b, m, n, rectangle_color, background_color):\n",
    "    image = np.full((m, n, 3), background_color, dtype=np.uint8)\n",
    "    image[1:a+1, 1:b+1] = rectangle_color\n",
    "    plt.imshow(image)\n",
    "    plt.show()\n",
    "\n",
    "def draw_ellipse(a, b, m, n, ellipse_color, background_color):\n",
    "    image = np.full((m, n, 3), background_color, dtype=np.uint8)\n",
    "    for i in range(m):\n",
    "        for j in range(n):\n",
    "            if ((i - m/2)**2 / (a**2) + (j - n/2)**2 / (b**2)) <= 1:\n",
    "                image[i, j] = ellipse_color\n",
    "    plt.imshow(image)\n",
    "    plt.show()\n",
    "\n",
    "# Тесты\n",
    "print(draw_rectangle(5, 5, 10, 10, (255, 0, 0), (0, 0, 255)))\n",
    "print(draw_ellipse(5, 5, 10, 10, (0, 255, 0), (0, 0, 255)))"
   ]
  },
  {
   "cell_type": "markdown",
   "metadata": {
    "id": "S82c38oz244H"
   },
   "source": [
    "<h1>Задача 7. Дан некий временной ряд. Для данного ряда нужно найти его: математическое ожидание, дисперсию, СКО, найти все локальные максимумы и минимумы (локальный максимум - это точка, которая больше своих соседних точек, а локальный минимум - это точка, которая меньше своих соседей), а также вычислить для данного ряда другой ряд, получаемый методом скользящего среднего с размером окна $p$.\n",
    "<h1>Примечание: метод скользящего среднего подразумевает нахождение среднего из подмножетсва ряда размером $p$"
   ]
  },
  {
   "cell_type": "code",
   "execution_count": null,
   "metadata": {
    "id": "Zb9mIVge5MMt"
   },
   "outputs": [],
   "source": [
    "def analyze_time_series(series, p):\n",
    "    mean = np.mean(series)\n",
    "    var = np.var(series)\n",
    "    std = np.std(series)\n",
    "    \n",
    "    local_max = []\n",
    "    local_min = []\n",
    "    for i in range(1, len(series) - 1):\n",
    "        if series[i] > series[i-1] and series[i] > series[i+1]:\n",
    "            local_max.append(i)\n",
    "        elif series[i] < series[i-1] and series[i] < series[i+1]:\n",
    "            local_min.append(i)\n",
    "    \n",
    "    moving_avg = np.convolve(series, np.ones(p)/p, mode='valid')\n",
    "    \n",
    "    return mean, var, std, local_max, local_min, moving_avg\n",
    "\n",
    "series = np.array([1, 3, 2, 5, 4, 7, 6, 9, 8])\n",
    "mean, var, std, local_max, local_min, moving_avg = analyze_time_series(series, 3)\n",
    "print(mean) #5.0\n",
    "print(var) #6.666666666666667\n",
    "print(std) #2.581988897471611\n",
    "print(local_max) #[1, 3, 5, 7]\n",
    "print(local_min) #[2, 4, 6]\n",
    "print(moving_avg) #[2.         3.33333333 3.66666667 5.33333333 5.66666667 7.33333333 7.66666667]"
   ]
  },
  {
   "cell_type": "markdown",
   "metadata": {
    "id": "jPkylmOX5O9n"
   },
   "source": [
    "<h1> Задача 8. Дан некоторый вектор с целочисленными метками классов, напишите функцию, которая выполняет one-hot-encoding для данного вектора\n",
    "<h1> One-hot-encoding - представление, в котором на месте метки некоторого класса стоит 1, в остальных позициях стоит 0. Например для вектора [0, 2, 3, 0] one-hot-encoding выглядит как: [[1, 0, 0, 0], [0, 0, 1, 0], [0, 0, 0, 1], [1, 0, 0, 0]]"
   ]
  },
  {
   "cell_type": "code",
   "execution_count": null,
   "metadata": {
    "id": "Y-jlnZvw56lD"
   },
   "outputs": [],
   "source": [
    "def one_hot_encoding(labels):\n",
    "    n_classes = np.max(labels) + 1\n",
    "    one_hot = np.zeros((len(labels), n_classes))\n",
    "    one_hot[np.arange(len(labels)), labels] = 1\n",
    "    return one_hot\n",
    "\n",
    "labels = np.array([0, 2, 3, 0])\n",
    "print(one_hot_encoding(labels)) \n",
    "#[[1. 0. 0. 0.]\n",
    "#[0. 0. 1. 0.]\n",
    "#[0. 0. 0. 1.]\n",
    "#[1. 0. 0. 0.]]"
   ]
  }
 ],
 "metadata": {
  "colab": {
   "provenance": []
  },
  "kernelspec": {
   "display_name": "Python 3",
   "name": "python3"
  },
  "language_info": {
   "name": "python"
  }
 },
 "nbformat": 4,
 "nbformat_minor": 0
}
