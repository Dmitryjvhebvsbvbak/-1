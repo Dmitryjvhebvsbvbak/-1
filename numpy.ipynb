{
 "cells": [
  {
   "cell_type": "markdown",
   "metadata": {
    "id": "vC84e9kzyxPy"
   },
   "source": [
    "<h1>Импорт библиотек"
   ]
  },
  {
   "cell_type": "code",
   "execution_count": 3,
   "metadata": {
    "id": "cgKeNegmQG5S"
   },
   "outputs": [],
   "source": [
    "import numpy as np\n",
    "import matplotlib.pyplot as plt"
   ]
  },
  {
   "cell_type": "markdown",
   "metadata": {
    "id": "qFM9uVU2x4Ls"
   },
   "source": [
    "<h1>Задача 1. Дан набор из $p$ матриц размерностью $(n, n)$ и $p$ векторов размерностью $(n, 1)$, найти сумму произведений матриц на векторы. Написать тесты для кода"
   ]
  },
  {
   "cell_type": "code",
   "execution_count": null,
   "metadata": {
    "id": "IAbUvEiYyWFF"
   },
   "outputs": [],
   "source": [
    "def sum_prod(X, V):\n",
    "    matrix = np.array(X)\n",
    "    vector = np.array(V)\n",
    "    result = matrix.dot(vector)\n",
    "\n",
    "    return f'Результат перемножения: {result[0]},{result[1]}'\n",
    "\n",
    "\n",
    "print(sum_prod([[4, 1], [2, 2]], [1, 2])) # Результат перемножения: 6,6\n",
    "print(sum_prod([[2, 5], [1, 6]], [1, 2])) # Результат перемножения: 12,13"
   ]
  },
  {
   "cell_type": "markdown",
   "metadata": {
    "id": "TKwPG4fIy2w4"
   },
   "source": [
    "<h1>Задача 2. Дана матрица M, напишите функцию, которая бинаризует матрицу по некоторому threshold (то есть, все значения большие threshold становятся равными 1, иначе 0). Напишите тесты для кода"
   ]
  },
  {
   "cell_type": "code",
   "execution_count": null,
   "metadata": {
    "id": "KQDNMgsjRNH7"
   },
   "outputs": [],
   "source": [
    "def binarize(M, threshold=0.5):\n",
    "    matrix = np.array(M)\n",
    "    binarize = np.where(matrix > threshold, 1, 0)\n",
    "    \n",
    "    return binarize\n",
    "\n",
    "\n",
    "print(binarize([[0.7, 1.4, 0.5], [0.2, 0.0, 0.3], [3.8, 0.8, 1.3]])) \n",
    "#[[1 1 0]\n",
    "#[0 0 0]\n",
    "#[1 1 1]]"
   ]
  },
  {
   "cell_type": "markdown",
   "metadata": {
    "id": "IY5L-h-7zWhN"
   },
   "source": [
    "<h1>Задача 3. Напишите функцию, которая возвращает уникальные элементы из каждой строки матрицы. Напишите такую же функцию, но для столбцов. Напишите тесты для кода"
   ]
  },
  {
   "cell_type": "code",
   "execution_count": null,
   "metadata": {
    "id": "-8dEZhR0SBC-"
   },
   "outputs": [],
   "source": [
    "\n",
    "def unique_rows(mat):\n",
    "    unique_elements = []\n",
    "    for row in mat:\n",
    "        unique_elements.append(np.unique(row))\n",
    "    return unique_elements\n",
    "def unique_columns(mat):\n",
    "    unique_elements = []\n",
    "    for col in mat.T:\n",
    "        unique_elements.append(np.unique(col))\n",
    "    return unique_elements\n",
    "print(unique_rows([[1, 1, 3], [5, 5, 6], [7, 8, 9]])) #[array([1, 3]), array([5, 6]), array([7, 8, 9])]\n",
    "print(unique_columns([[1, 4, 3], [1, 5, 3], [3, 8, 9]]))\n",
    "\n"
   ]
  },
  {
   "cell_type": "markdown",
   "metadata": {
    "id": "roYAlo4Jz-lH"
   },
   "source": [
    "<h1>Задача 4. Напишите функцию, которая заполняет матрицу с размерами $(m, n)$ случайными числами, распределенными по нормальному закону. Затем считает мат. ожидание и дисперсию для каждого из столбцов и строк, а также строит для каждой строки и столбца гистограмму значений (использовать функцию hist из модуля matplotlib.plot)"
   ]
  },
  {
   "cell_type": "code",
   "execution_count": null,
   "metadata": {
    "id": "nZK_71hMSQzv"
   },
   "outputs": [],
   "source": [
    "def analyze_matrix(m, n):\n",
    "    mat = np.random.normal(size=(m, n))\n",
    "    \n",
    "    # Математическое ожидание и дисперсия\n",
    "    mean_cols = np.mean(mat, axis=0)\n",
    "    var_cols = np.var(mat, axis=0)\n",
    "    \n",
    "    # Математическое ожидание и дисперсия\n",
    "    mean_rows = np.mean(mat, axis=1)\n",
    "    var_rows = np.var(mat, axis=1)\n",
    "    \n",
    "    # Гистограммы для каждой строки и столбца\n",
    "    for i in range(m):\n",
    "        plt.figure()\n",
    "        plt.hist(mat[i, :], bins=20)\n",
    "        plt.title(f'Row {i+1} Histogram')\n",
    "        plt.show()\n",
    "    \n",
    "    for j in range(n):\n",
    "        plt.figure()\n",
    "        plt.hist(mat[:, j], bins=20)\n",
    "        plt.title(f'Column {j+1} Histogram')\n",
    "        plt.show()\n",
    "    \n",
    "    return mean_cols, var_cols, mean_rows, var_rows\n",
    "\n",
    "mean_cols, var_cols, mean_rows, var_rows = analyze_matrix(3, 4)\n",
    "print(mean_cols) #[-0.32210668 -0.12306989  0.1434362   0.37129778]\n",
    "print(var_cols) #[0.68836471 0.43751733 0.79434555 0.07455903]\n",
    "print(mean_rows) #[ 0.39038247 -0.14836409 -0.18985032]\n",
    "print(var_rows) #[0.60985877 0.39328    0.49049885]\n",
    "\n"
   ]
  },
  {
   "cell_type": "markdown",
   "metadata": {
    "id": "BDyATNdM0dJ2"
   },
   "source": [
    "<h1>Задача 5. Напишите функцию, которая заполняет матрицу $(m, n)$ в шахматном порядке заданными числами $a$ и $b$. Напишите тесты для кода"
   ]
  },
  {
   "cell_type": "code",
   "execution_count": null,
   "metadata": {
    "id": "RWNJYWQGecS6"
   },
   "outputs": [],
   "source": [
    "def chess(m, n, a, b):\n",
    "    mat = np.zeros((m, n))\n",
    "    for i in range(m):\n",
    "        for j in range(n):\n",
    "            if (i + j) % 2 == 0:\n",
    "                mat[i, j] = a\n",
    "            else:\n",
    "                mat[i, j] = b\n",
    "    return mat\n",
    "\n",
    "print(chess(3, 3, 1, 0)) \n",
    "#[[1. 0. 1.]\n",
    "#[0. 1. 0.]\n",
    "#[1. 0. 1.]]"
   ]
  },
  {
   "cell_type": "markdown",
   "metadata": {
    "id": "-ymXLtTN0vB6"
   },
   "source": [
    "<h1>Задача 6. Напишите функцию, которая отрисовывает прямоугольник с заданными размерами (a, b) на изображении размера (m, n), цвет фона задайте в схеме RGB, как и цвет прямоугольника. Цвета также должны быть параметрами функции. Напишите аналогичную функцию но для овала с полуосями a и b. Напишите тесты для кода.\n",
    "Примечание: уравнение эллипса (границы овала) можно записать как:\n",
    "<h1>$\\frac{(x-x_0)^2}{a^2}+\\frac{(y-y_0)^2}{b^2}=1$"
   ]
  },
  {
   "cell_type": "code",
   "execution_count": null,
   "metadata": {
    "id": "sNfl1t_kfOF4"
   },
   "outputs": [],
   "source": [
    "def draw_rectangle(a, b, m, n, rectangle_color, background_color):\n",
    "    image = np.full((m, n, 3), background_color, dtype=np.uint8)\n",
    "    image[1:a+1, 1:b+1] = rectangle_color\n",
    "    plt.imshow(image)\n",
    "    plt.show()\n",
    "\n",
    "def draw_ellipse(a, b, m, n, ellipse_color, background_color):\n",
    "    image = np.full((m, n, 3), background_color, dtype=np.uint8)\n",
    "    for i in range(m):\n",
    "        for j in range(n):\n",
    "            if ((i - m/2)**2 / (a**2) + (j - n/2)**2 / (b**2)) <= 1:\n",
    "                image[i, j] = ellipse_color\n",
    "    plt.imshow(image)\n",
    "    plt.show()\n",
    "\n",
    "# Тесты\n",
    "print(draw_rectangle(5, 5, 10, 10, (255, 0, 0), (0, 0, 255)))\n",
    "print(draw_ellipse(5, 5, 10, 10, (0, 255, 0), (0, 0, 255)))"
   ]
  },
  {
   "cell_type": "markdown",
   "metadata": {
    "id": "S82c38oz244H"
   },
   "source": [
    "<h1>Задача 7. Дан некий временной ряд. Для данного ряда нужно найти его: математическое ожидание, дисперсию, СКО, найти все локальные максимумы и минимумы (локальный максимум - это точка, которая больше своих соседних точек, а локальный минимум - это точка, которая меньше своих соседей), а также вычислить для данного ряда другой ряд, получаемый методом скользящего среднего с размером окна $p$.\n",
    "<h1>Примечание: метод скользящего среднего подразумевает нахождение среднего из подмножетсва ряда размером $p$"
   ]
  },
  {
   "cell_type": "code",
   "execution_count": null,
   "metadata": {
    "id": "Zb9mIVge5MMt"
   },
   "outputs": [],
   "source": [
    "def analyze_time_series(series, p):\n",
    "    mean = np.mean(series)\n",
    "    var = np.var(series)\n",
    "    std = np.std(series)\n",
    "    \n",
    "    local_max = []\n",
    "    local_min = []\n",
    "    for i in range(1, len(series) - 1):\n",
    "        if series[i] > series[i-1] and series[i] > series[i+1]:\n",
    "            local_max.append(i)\n",
    "        elif series[i] < series[i-1] and series[i] < series[i+1]:\n",
    "            local_min.append(i)\n",
    "    \n",
    "    moving_avg = np.convolve(series, np.ones(p)/p, mode='valid')\n",
    "    \n",
    "    return mean, var, std, local_max, local_min, moving_avg\n",
    "\n",
    "series = np.array([1, 3, 2, 5, 4, 7, 6, 9, 8])\n",
    "mean, var, std, local_max, local_min, moving_avg = analyze_time_series(series, 3)\n",
    "print(mean) #5.0\n",
    "print(var) #6.666666666666667\n",
    "print(std) #2.581988897471611\n",
    "print(local_max) #[1, 3, 5, 7]\n",
    "print(local_min) #[2, 4, 6]\n",
    "print(moving_avg) #[2.         3.33333333 3.66666667 5.33333333 5.66666667 7.33333333 7.66666667]"
   ]
  },
  {
   "cell_type": "markdown",
   "metadata": {
    "id": "jPkylmOX5O9n"
   },
   "source": [
    "<h1> Задача 8. Дан некоторый вектор с целочисленными метками классов, напишите функцию, которая выполняет one-hot-encoding для данного вектора\n",
    "<h1> One-hot-encoding - представление, в котором на месте метки некоторого класса стоит 1, в остальных позициях стоит 0. Например для вектора [0, 2, 3, 0] one-hot-encoding выглядит как: [[1, 0, 0, 0], [0, 0, 1, 0], [0, 0, 0, 1], [1, 0, 0, 0]]"
   ]
  },
  {
   "cell_type": "code",
   "execution_count": null,
   "metadata": {
    "id": "Y-jlnZvw56lD"
   },
   "outputs": [],
   "source": [
    "def one_hot_encoding(labels):\n",
    "    n_classes = np.max(labels) + 1\n",
    "    one_hot = np.zeros((len(labels), n_classes))\n",
    "    one_hot[np.arange(len(labels)), labels] = 1\n",
    "    return one_hot\n",
    "\n",
    "labels = np.array([0, 2, 3, 0])\n",
    "print(one_hot_encoding(labels)) \n",
    "#[[1. 0. 0. 0.]\n",
    "#[0. 0. 1. 0.]\n",
    "#[0. 0. 0. 1.]\n",
    "#[1. 0. 0. 0.]]"
   ]
  }
 ],
 "metadata": {
  "colab": {
   "provenance": []
  },
  "kernelspec": {
   "display_name": "Python 3",
   "name": "python3"
  },
  "language_info": {
   "name": "python"
  }
 },
 "nbformat": 4,
 "nbformat_minor": 0
}
