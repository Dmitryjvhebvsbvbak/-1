{
 "cells": [
  {
   "cell_type": "markdown",
   "metadata": {
    "id": "M-DGa20PaHnu"
   },
   "source": [
    "#Задача 1\n",
    "Написать функцию на вход которой подается строка, состоящая из латинских букв.\n",
    "Функция должна вернуть количество гласных букв (a, e, i, o, u) в этой строке. Написать тесты для кода"
   ]
  },
  {
   "cell_type": "code",
   "execution_count": null,
   "metadata": {
    "id": "XvX8X_JJ6PCb"
   },
   "outputs": [],
   "source": [
    "def count_vowels(s):\n",
    "    vowels = \"aeiou\"\n",
    "    count = 0\n",
    "    for char in s.lower():\n",
    "        if char in vowels:\n",
    "            count += 1\n",
    "    return count\n",
    "\n",
    "# Тесты\n",
    "print(count_vowels('aeiou')) #5\n",
    "print(count_vowels('bcd')) #0"
   ]
  },
  {
   "cell_type": "markdown",
   "metadata": {
    "id": "t2ClV_Y0bbr6"
   },
   "source": [
    "# Задача 2\n",
    "Написать функцию на вход, которой подается строка. Функция должна вернуть true, если\n",
    "каждый символ в строке встречается только 1 раз, иначе должна вернуть false. Написать тесты для кода"
   ]
  },
  {
   "cell_type": "code",
   "execution_count": null,
   "metadata": {
    "id": "FppbECao6VIz"
   },
   "outputs": [],
   "source": [
    "def is_unique_chars(s):\n",
    "    return len(s) == len(set(s))\n",
    "\n",
    "# Тесты\n",
    "print(is_unique_chars('abc')) #True\n",
    "print(is_unique_chars('aabc')) #False\n",
    "print(is_unique_chars('a')) #True\n"
   ]
  },
  {
   "cell_type": "markdown",
   "metadata": {
    "id": "udRiIK1cdt6E"
   },
   "source": [
    "# Задача 3\n",
    "Написать функцию, которая принимает положительное число и возвращает количество\n",
    "бит равных 1 в этом числе. Написать тесты для кода"
   ]
  },
  {
   "cell_type": "code",
   "execution_count": null,
   "metadata": {
    "id": "6tkfDJRz6dp_"
   },
   "outputs": [],
   "source": [
    "def count_bits(n):\n",
    "    return bin(n).count('1')\n",
    "\n",
    "# Тесты\n",
    "print(count_bits(0)) #0\n",
    "print(count_bits(1)) #1"
   ]
  },
  {
   "cell_type": "markdown",
   "metadata": {
    "id": "26dDUz-Ae17N"
   },
   "source": [
    "# Задача 4\n",
    "Написать функцию, которая принимает положительное число. Функция должна вернуть то,\n",
    "сколько раз необходимо перемножать цифры числа или результат перемножения, чтобы\n",
    "получилось число состоящее из одной цифры.\n",
    "Например, для входного числа:\n",
    "· 39 функция должна вернуть 3, так как 3*9=27 => 2*7=14 => 1*4=4\n",
    "· 4 функция должна вернуть 0, так как число уже состоит из одной цифры\n",
    "· 999 функция должна вернуть 4, так как 9*9*9=729 => 7*2*9=126 => 1*2*6=12 =>\n",
    "1*2=2. Написать тесты для кода"
   ]
  },
  {
   "cell_type": "code",
   "execution_count": null,
   "metadata": {
    "id": "BH1A_Mgi6i4G"
   },
   "outputs": [],
   "source": [
    "def magic(n):\n",
    "    def multiply_digits(num):\n",
    "        product = 1\n",
    "        for digit in str(num):\n",
    "            product *= int(digit)\n",
    "        return product\n",
    "    \n",
    "    count = 0\n",
    "    while n >= 10:\n",
    "        n = multiply_digits(n)\n",
    "        count += 1\n",
    "    return count\n",
    "\n",
    "# Тесты\n",
    "print(magic(39)) #3\n",
    "print(magic(4)) #0"
   ]
  },
  {
   "cell_type": "markdown",
   "metadata": {
    "id": "0nS-kIa8g8vd"
   },
   "source": [
    "# Задача 5\n",
    "Написать функцию, которая принимает два целочисленных вектора одинаковой длины и\n",
    "возвращает среднеквадратическое отклонение двух векторов. Написать тесты для кода"
   ]
  },
  {
   "cell_type": "code",
   "execution_count": null,
   "metadata": {
    "id": "8iphx4LM6xbx"
   },
   "outputs": [],
   "source": [
    "def mse(pred, true):\n",
    "    if len(pred) != len(true):\n",
    "        raise ValueError(\"Векторы должны быть одинаковой длины\")\n",
    "    \n",
    "    sum_squared_errors = sum((p - t) ** 2 for p, t in zip(pred, true))\n",
    "    return sum_squared_errors / len(pred)\n",
    "\n",
    "# Тесты\n",
    "print(mse([1, 2, 3], [1, 2, 3])) # 0.0\n",
    "print(mse([1, 2, 3], [2, 3, 4])) #1.0\n",
    "print(mse([1, 2, 3], [3, 2, 1])) # 2.6666666666666665\n"
   ]
  },
  {
   "cell_type": "markdown",
   "metadata": {
    "id": "vpIPKL439zkw"
   },
   "source": [
    "# Задача 6\n",
    "Написать функцию, принимающая целое положительное число. Функция должна вернуть\n",
    "строку вида “(n1**p1)(n2**p2)…(nk**pk)” представляющая разложение числа на простые\n",
    "множители (если pi == 1, то выводить только ni).\n",
    "Например, для числа 86240 функция должна вернуть “(2**5)(5)(7**2)(11)”. Написать тесты для кода"
   ]
  },
  {
   "cell_type": "code",
   "execution_count": null,
   "metadata": {
    "id": "pFebmcZk94Jw"
   },
   "outputs": [],
   "source": [
    "def prime_factors(n):\n",
    "    factors = {}\n",
    "    divisor = 2\n",
    "    while n >= 2:\n",
    "        while n % divisor == 0:\n",
    "            if divisor in factors:\n",
    "                factors[divisor] += 1\n",
    "            else:\n",
    "                factors[divisor] = 1\n",
    "            n //= divisor\n",
    "        divisor += 1\n",
    "    \n",
    "    result = ''.join(f\"({key}{'**' + str(value) if value > 1 else ''})\" for key, value in sorted(factors.items()))\n",
    "    return result\n",
    "\n",
    "# Тесты\n",
    "print(prime_factors(86240)) # (2**5)(5)(7**2)(11)\n",
    "print(prime_factors(10)) # (2)(5)"
   ]
  },
  {
   "cell_type": "markdown",
   "metadata": {
    "id": "ps2s0BudX7A2"
   },
   "source": [
    "# Задача 7\n",
    "Написать функцию, принимающая целое число n, задающее количество кубиков. Функция\n",
    "должна определить, можно ли из данного кол-ва кубиков построить пирамиду, то есть\n",
    "можно ли представить число n как 1^2+2^2+3^2+…+k^2. Если можно, то функция должна\n",
    "вернуть k, иначе строку “It is impossible”. Написать тесты для кода"
   ]
  },
  {
   "cell_type": "code",
   "execution_count": null,
   "metadata": {
    "id": "3YPjEXxhX_YT"
   },
   "outputs": [],
   "source": [
    "def pyramid(number):\n",
    "    k = 1\n",
    "    sum_squares = 0\n",
    "    while sum_squares < number:\n",
    "        sum_squares += k * k\n",
    "        if sum_squares == number:\n",
    "            return k\n",
    "        k += 1\n",
    "    return \"It is impossible\"\n",
    "\n",
    "# Тесты\n",
    "print(pyramid(1)) # 1\n",
    "print(pyramid(5)) #2\n",
    "print(pyramid(1190)) #It is impossible\n"
   ]
  },
  {
   "cell_type": "markdown",
   "metadata": {
    "id": "KeKgmIdAQMEJ"
   },
   "source": [
    "# Задача 8\n",
    "Функция принимает на вход положительное число и определяет является ли оно сбалансированным, т.е. сумма цифр до средних равна сумме цифр после. Средними в случае нечетного числа цифр считать одну цифру, в случае четного - две средних. Написать тесты для кода"
   ]
  },
  {
   "cell_type": "code",
   "execution_count": null,
   "metadata": {
    "id": "gMAAqtqlQrZt"
   },
   "outputs": [],
   "source": [
    "def is_balanced(n):\n",
    "    s = str(n)\n",
    "    length = len(s)\n",
    "    if length == 1:\n",
    "        return True\n",
    "    \n",
    "    mid = length // 2\n",
    "    if length % 2 == 0:\n",
    "        left_sum = sum(int(s[i]) for i in range(mid))\n",
    "        right_sum = sum(int(s[i]) for i in range(mid, length))\n",
    "    else:\n",
    "        left_sum = sum(int(s[i]) for i in range(mid))\n",
    "        right_sum = sum(int(s[i]) for i in range(mid + 1, length))\n",
    "    \n",
    "    return left_sum == right_sum\n",
    "\n",
    "# Тесты\n",
    "print(is_balanced(123321)) #True\n",
    "print(is_balanced(12345)) #False\n",
    "print(is_balanced(1)) #True"
   ]
  }
 ],
 "metadata": {
  "colab": {
   "provenance": []
  },
  "kernelspec": {
   "display_name": "Python 3",
   "name": "python3"
  },
  "language_info": {
   "name": "python"
  }
 },
 "nbformat": 4,
 "nbformat_minor": 0
}
